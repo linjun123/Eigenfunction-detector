{
  "nbformat": 4,
  "nbformat_minor": 0,
  "metadata": {
    "colab": {
      "name": "Readme.ipynb",
      "provenance": [],
      "collapsed_sections": [],
      "authorship_tag": "ABX9TyMQ1bHwy8VPjUmgoG4OnlB7",
      "include_colab_link": true
    },
    "kernelspec": {
      "name": "python3",
      "display_name": "Python 3"
    },
    "language_info": {
      "name": "python"
    }
  },
  "cells": [
    {
      "cell_type": "markdown",
      "metadata": {
        "id": "view-in-github",
        "colab_type": "text"
      },
      "source": [
        "<a href=\"https://colab.research.google.com/github/linjun123/Eigenfunction-detector/blob/main/Readme.ipynb\" target=\"_parent\"><img src=\"https://colab.research.google.com/assets/colab-badge.svg\" alt=\"Open In Colab\"/></a>"
      ]
    },
    {
      "cell_type": "markdown",
      "metadata": {
        "id": "eP5FuyzDvhxj"
      },
      "source": [
        "\n",
        "\n",
        "###1. \n",
        "The eigenfunctions of a Schrodinger equation are important objects in physics and mathematics. The eigenfunction finding algorithms are knowning to be costy when the sample size is large. On the other hand, solving a Poisson equation with potential can be reduced to solve a linear equation which is easier than the eigenfunction problem. \n",
        "The landscape theory made it possible to find eigenfunctions by solving a Poisson equation.\n",
        "\n",
        "More precisely, consider the eigenvalue problem of Schrodinger equation \n",
        "$$\n",
        "  \\Delta u + V u = \\lambda u\n",
        "$$\n",
        "in region $\\Omega$.\n",
        "In order to find the solution $u$, we can solve a discretized problem and find the eigenvalues and eigenvectors of matrix $\\Delta + V$.\n",
        "\n",
        "In certain situations, we only need the first a few eigenfunctions and we somehow know that the eigenfunctions are localized in space. In these cases, the landscape provides a fast and efficient way for us to find these eigenfunctions' places.\n",
        "\n",
        "The landscape function $g$ is the solution of the following Poisson equation\n",
        "$$\n",
        " \\Delta g + V g = 1\n",
        "$$\n",
        "where $1$ denote the constant function in the region.\n",
        "Under certain conditions,\n",
        "the eigenfunctions are localized at the places where the landscape function $g$ tends to be large. \n",
        "\n",
        "We consider here the simple case when the region $\\Omega$ is the two dimensional box with edge length $n$.\n",
        "###2.\n",
        "There are two challenges:\n",
        "\n",
        "(a) how to read from the landscape function to decide the places where the eigenfunctions are seems to depend on the researcher. \n",
        "\n",
        "(b) even if one can determine the first several eigenfunctions' locations, it seems uncertain to decide which eigenfunction localizes at which place where $g$ is large.\n",
        "\n",
        "Especially, the second question is hard because the support of the first a few eigenfunctions tend to be similar when the edge length $n$ is large.\n",
        "\n",
        "###3.\n",
        "\n",
        "The current implementation focuses on one dimensional case and the values of the first a few eigenvalues. See https://github.com/nehcili/Wave-Localization\n",
        "\n",
        "###4.\n",
        "\n",
        "We first calculate the landscape function which reduces to solve a linear equation. Then we 'read' from the landscape function to decide the places of first a few eigenfunctions.\n",
        "\n",
        "The 'read' part follows the previous 1d work by training a neural network. More precisely, we are facing a localization problem. The neural net needs to:\n",
        "\n",
        "(a) find the places of the eigenfunctions\n",
        "\n",
        "(b) label them from the ordering of the corresponding eigenvalues\n",
        "\n",
        "###5.\n",
        "In the end, we have\n",
        "an \"automated eigenfunctions reader\" which is different from the previous method of solving an eigenvalue problem. Meanwhile, the mean square error of prediction is less than the method of predicting by the maximum of landscape function.\n"
      ]
    }
  ]
}